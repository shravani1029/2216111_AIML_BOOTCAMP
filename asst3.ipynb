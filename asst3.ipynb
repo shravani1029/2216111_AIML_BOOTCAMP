{
  "nbformat": 4,
  "nbformat_minor": 0,
  "metadata": {
    "colab": {
      "name": "asst3.ipynb",
      "provenance": [],
      "collapsed_sections": [],
      "authorship_tag": "ABX9TyPoAFs3nJEXQEV/mivjOxd/",
      "include_colab_link": true
    },
    "kernelspec": {
      "name": "python3",
      "display_name": "Python 3"
    },
    "language_info": {
      "name": "python"
    }
  },
  "cells": [
    {
      "cell_type": "markdown",
      "metadata": {
        "id": "view-in-github",
        "colab_type": "text"
      },
      "source": [
        "<a href=\"https://colab.research.google.com/github/shravani1029/2216111_AIML_BOOTCAMP/blob/main/asst3.ipynb\" target=\"_parent\"><img src=\"https://colab.research.google.com/assets/colab-badge.svg\" alt=\"Open In Colab\"/></a>"
      ]
    },
    {
      "cell_type": "code",
      "execution_count": 1,
      "metadata": {
        "id": "YQTLtpHhGAMx",
        "colab": {
          "base_uri": "https://localhost:8080/"
        },
        "outputId": "d63c273f-f2d9-4cda-8f2b-c911d8de414e"
      },
      "outputs": [
        {
          "output_type": "stream",
          "name": "stdout",
          "text": [
            "Addtion of 2 numbers is 10\n",
            "Sub of 2 numbers is 5\n"
          ]
        }
      ],
      "source": [
        "class CO:\n",
        "  def subn(self,a,b):\n",
        "    return a-b\n",
        "  def addn(self,a,b):\n",
        "    return a+b\n",
        "obj=CO()\n",
        "print(\"Addtion of 2 numbers is\",obj.addn(5,5))\n",
        "print(\"Sub of 2 numbers is\",obj.subn(10,5))"
      ]
    },
    {
      "cell_type": "code",
      "source": [
        "class C1:\n",
        "  '''description'''\n",
        "  class_var=\"demonstrates class creation\"\n",
        "  def cm(self):\n",
        "    return\"method invocation\"\n",
        "  def __str__(self):\n",
        "    return \"returns string to object\"\n",
        "obj1=C1()\n",
        "print(obj1.class_var)\n",
        "print(obj1.cm())\n",
        "print(obj1)"
      ],
      "metadata": {
        "colab": {
          "base_uri": "https://localhost:8080/"
        },
        "id": "8NrY-FLboU5K",
        "outputId": "6a493ee0-a573-4efe-9b4d-fbf635670d54"
      },
      "execution_count": 5,
      "outputs": [
        {
          "output_type": "stream",
          "name": "stdout",
          "text": [
            "demonstrates class creation\n",
            "method invocation\n",
            "returns string to object\n"
          ]
        }
      ]
    },
    {
      "cell_type": "code",
      "source": [
        "class Animal:\n",
        "  def animal_sounds(self):\n",
        "    return \"makes sound\"\n",
        "class Cat(Animal):\n",
        "  def cat_sound(self):\n",
        "    return self.animal_sounds()+\"MEOW\"\n",
        "  def __str__(self):\n",
        "    return \"CAT\"\n",
        "catobj=Cat()\n",
        "print(catobj,catobj.cat_sound())"
      ],
      "metadata": {
        "colab": {
          "base_uri": "https://localhost:8080/"
        },
        "id": "UghaXEJQYDkp",
        "outputId": "b5311551-718d-44b6-e8a4-16f91c020bea"
      },
      "execution_count": 6,
      "outputs": [
        {
          "output_type": "stream",
          "name": "stdout",
          "text": [
            "CAT makes soundMEOW\n"
          ]
        }
      ]
    },
    {
      "cell_type": "code",
      "source": [
        "#hierarchial\n",
        "class Animal:\n",
        "  def animal_sounds(self):\n",
        "    return \"makes sound\"\n",
        "class Cat(Animal):\n",
        "  def cat_sound(self):\n",
        "    return self.animal_sounds()+\" MEOW\"\n",
        "  def __str__(self):\n",
        "    return \"CAT\"\n",
        "  \n",
        "class Dog(Animal):\n",
        "  def dog_sound(self):\n",
        "    return self.animal_sounds()+\" BOW\"\n",
        "  def __str__(self):\n",
        "    return \"DOG\"\n",
        "catobj=Cat()\n",
        "print(catobj,catobj.cat_sound())\n",
        "dogobj=Dog()\n",
        "print(dogobj,dogobj.dog_sound())"
      ],
      "metadata": {
        "colab": {
          "base_uri": "https://localhost:8080/"
        },
        "id": "XT0hltx7YJ0g",
        "outputId": "8dfc905b-f1f8-4180-82d4-96475cf595db"
      },
      "execution_count": 7,
      "outputs": [
        {
          "output_type": "stream",
          "name": "stdout",
          "text": [
            "CAT makes sound MEOW\n",
            "DOG makes sound BOW\n"
          ]
        }
      ]
    },
    {
      "cell_type": "code",
      "source": [
        "#hierarchial\n",
        "class Animal:\n",
        "  def animal_sounds(self):\n",
        "    return \"makes sound\"\n",
        "class Cat(Animal):\n",
        "  def cat_sound(self):\n",
        "    return self.animal_sounds()+\" MEOW\"\n",
        "  def __str__(self):\n",
        "    return \"CAT\"\n",
        "  \n",
        "class Dog(Animal):\n",
        "  def dog_sound(self):\n",
        "    return self.animal_sounds()+\" BOW\"\n",
        "  def __str__(self):\n",
        "    return \"DOG\"\n",
        "catobj=Cat()\n",
        "print(catobj,catobj.cat_sound())\n",
        "dogobj=Dog()\n",
        "print(dogobj,dogobj.dog_sound())"
      ],
      "metadata": {
        "colab": {
          "base_uri": "https://localhost:8080/"
        },
        "id": "dnyKhCLQYRFr",
        "outputId": "93576c82-dde7-441e-d0a3-9f3666e3c8a6"
      },
      "execution_count": 8,
      "outputs": [
        {
          "output_type": "stream",
          "name": "stdout",
          "text": [
            "CAT makes sound MEOW\n",
            "DOG makes sound BOW\n"
          ]
        }
      ]
    },
    {
      "cell_type": "code",
      "source": [
        "#name\n",
        "try:\n",
        "  print(x)\n",
        "except NameError as ne:\n",
        "  print(\"exception occurred\",ne)\n",
        "print(\"excecuted\")\n"
      ],
      "metadata": {
        "colab": {
          "base_uri": "https://localhost:8080/"
        },
        "id": "l4zMUHiGYW_b",
        "outputId": "a7108c2c-159d-4925-ec7f-1895b8805860"
      },
      "execution_count": 9,
      "outputs": [
        {
          "output_type": "stream",
          "name": "stdout",
          "text": [
            "exception occurred name 'x' is not defined\n",
            "excecuted\n"
          ]
        }
      ]
    },
    {
      "cell_type": "code",
      "source": [
        "#name\n",
        "try:\n",
        "  print(x)\n",
        "except NameError as ne:\n",
        "  print(\"exception occurred\",ne)\n",
        "print(\"excecuted\")\n"
      ],
      "metadata": {
        "colab": {
          "base_uri": "https://localhost:8080/"
        },
        "id": "6Ou1ROrVYhxC",
        "outputId": "c1c0388c-0183-471d-f70a-dd5d101a007d"
      },
      "execution_count": 10,
      "outputs": [
        {
          "output_type": "stream",
          "name": "stdout",
          "text": [
            "exception occurred name 'x' is not defined\n",
            "excecuted\n"
          ]
        }
      ]
    },
    {
      "cell_type": "code",
      "source": [
        "class INVALIDSTUDENTID(Exception):\n",
        "  pass\n",
        "stid=input(\"enter student id\")\n",
        "try:\n",
        "  if stid[:4]!=\"2003\":\n",
        "    raise INVALIDSTUDENTID\n",
        "except INVALIDSTUDENTID:\n",
        "  print(\"error raised due to invalid details\")\n",
        "print(\"details verified\")"
      ],
      "metadata": {
        "colab": {
          "base_uri": "https://localhost:8080/"
        },
        "id": "9w6HvcVPYj8W",
        "outputId": "e1cd90dc-272c-446a-cb5b-a5b345d205b9"
      },
      "execution_count": 11,
      "outputs": [
        {
          "output_type": "stream",
          "name": "stdout",
          "text": [
            "enter student id123\n",
            "error raised due to invalid details\n",
            "details verified\n"
          ]
        }
      ]
    },
    {
      "cell_type": "code",
      "source": [
        "class INVALIDSTUDENTID(Exception):\n",
        "  def __str__(self):\n",
        "    return \"ERROR RAISED\"\n",
        "stid=input(\"enter student id\")\n",
        "try:\n",
        "  if stid[:4]!=\"2003\":\n",
        "    raise INVALIDSTUDENTID \n",
        "except INVALIDSTUDENTID as invalid:\n",
        "  print(invalid)\n",
        "print(\"details verified\")"
      ],
      "metadata": {
        "colab": {
          "base_uri": "https://localhost:8080/"
        },
        "id": "Oz9MaLdiYqv_",
        "outputId": "1434abce-29ad-41ba-a626-3181ce94420f"
      },
      "execution_count": 12,
      "outputs": [
        {
          "output_type": "stream",
          "name": "stdout",
          "text": [
            "enter student id1234\n",
            "ERROR RAISED\n",
            "details verified\n"
          ]
        }
      ]
    },
    {
      "cell_type": "code",
      "source": [
        "#implement exception handling for age of voter\n",
        "f=open(\"sample.txt\",\"x\")\n",
        "f=open(\"sample.txt\",\"w\")\n",
        "f.write(\"WELCOME\")\n",
        "f.close()\n",
        "f=open(\"sample.txt\",\"r\")\n",
        "print(f.read())\n",
        "f.close()"
      ],
      "metadata": {
        "colab": {
          "base_uri": "https://localhost:8080/"
        },
        "id": "HTudI7b3YwX2",
        "outputId": "afec267f-cf52-4b64-ed5f-78d817888dac"
      },
      "execution_count": 13,
      "outputs": [
        {
          "output_type": "stream",
          "name": "stdout",
          "text": [
            "WELCOME\n"
          ]
        }
      ]
    },
    {
      "cell_type": "code",
      "source": [
        "f1=open(\"f1.txt\",\"x\")\n",
        "f2=open(\"f2.txt\",\"x\")\n",
        "f1=open(\"f1.txt\",\"w\")\n",
        "f1.write(\"COPYPASTE\")\n",
        "f1.close()\n",
        "f1=open(\"f1.txt\",\"r\")\n",
        "temp=f1.read()\n",
        "f1.close()\n",
        "f2=open(\"f2.txt\",\"w\")\n",
        "f2.write(temp)\n",
        "f2.close()"
      ],
      "metadata": {
        "id": "GYLU9lYda0Vg"
      },
      "execution_count": 23,
      "outputs": []
    },
    {
      "cell_type": "code",
      "source": [
        "import pickle\n",
        "mylist=['a','b','c','d']\n",
        "f3=open(\"datafile1.txt\",\"wb\")\n",
        "pickle.dump(mylist,f3)\n",
        "f3.close()\n"
      ],
      "metadata": {
        "id": "jSQAGDecdraE"
      },
      "execution_count": 25,
      "outputs": []
    },
    {
      "cell_type": "code",
      "source": [
        "import pickle\n",
        "pickle_off=open(\"datafile1.txt\",\"rb\")\n",
        "e=pickle.load(pickle_off)\n",
        "print(e)"
      ],
      "metadata": {
        "colab": {
          "base_uri": "https://localhost:8080/"
        },
        "id": "l3tOAosFdy2w",
        "outputId": "80125e53-4ccb-4aea-9010-110297e6bb25"
      },
      "execution_count": 26,
      "outputs": [
        {
          "output_type": "stream",
          "name": "stdout",
          "text": [
            "['a', 'b', 'c', 'd']\n"
          ]
        }
      ]
    },
    {
      "cell_type": "code",
      "source": [
        "import pickle\n",
        "pickle_off=open(\"datafile1.txt\",\"rb\")\n",
        "e=pickle.load(pickle_off)\n",
        "print(e)"
      ],
      "metadata": {
        "colab": {
          "base_uri": "https://localhost:8080/"
        },
        "id": "Bj7nMkeXd6PM",
        "outputId": "1b9d562c-39da-4f69-ddc1-af22d5b9ea82"
      },
      "execution_count": 27,
      "outputs": [
        {
          "output_type": "stream",
          "name": "stdout",
          "text": [
            "['a', 'b', 'c', 'd']\n"
          ]
        }
      ]
    },
    {
      "cell_type": "code",
      "source": [
        "import re\n",
        "ph_no=input(\"enter mobile number\")\n",
        "print(re.search(r'\\d{10}',ph_no).group())\n",
        "mail=input(\"enter a mail\")\n",
        "str1=r'[A-Za-z0-9._-]+@[A-Za-z0-9.-]+[A-Z|a-z]{2,}'\n",
        "print(re.search(str1,mail).group())"
      ],
      "metadata": {
        "colab": {
          "base_uri": "https://localhost:8080/"
        },
        "id": "jxq8eStSeBV8",
        "outputId": "c0ebe679-ed72-421a-a76c-e9d1c1f639f7"
      },
      "execution_count": 29,
      "outputs": [
        {
          "output_type": "stream",
          "name": "stdout",
          "text": [
            "enter mobile number1234567890\n",
            "1234567890\n",
            "enter a mailshravani@g.com\n",
            "shravani@g.com\n"
          ]
        }
      ]
    },
    {
      "cell_type": "code",
      "source": [
        "f=open(\"even.txt\",\"x\")\n"
      ],
      "metadata": {
        "id": "KT9e6USTfONB"
      },
      "execution_count": null,
      "outputs": []
    }
  ]
}