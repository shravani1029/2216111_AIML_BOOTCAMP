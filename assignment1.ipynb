{
  "nbformat": 4,
  "nbformat_minor": 0,
  "metadata": {
    "colab": {
      "name": "assignment1.ipynb",
      "provenance": [],
      "authorship_tag": "ABX9TyOLSG2tUJPtHWyWK4uknANz",
      "include_colab_link": true
    },
    "kernelspec": {
      "name": "python3",
      "display_name": "Python 3"
    },
    "language_info": {
      "name": "python"
    }
  },
  "cells": [
    {
      "cell_type": "markdown",
      "metadata": {
        "id": "view-in-github",
        "colab_type": "text"
      },
      "source": [
        "<a href=\"https://colab.research.google.com/github/shravani1029/2216111_AIML_BOOTCAMP/blob/main/assignment1.ipynb\" target=\"_parent\"><img src=\"https://colab.research.google.com/assets/colab-badge.svg\" alt=\"Open In Colab\"/></a>"
      ]
    },
    {
      "cell_type": "code",
      "execution_count": null,
      "metadata": {
        "id": "O240UHiUxQJN"
      },
      "outputs": [],
      "source": [
        "1. Implement the methods of String with examples."
      ]
    },
    {
      "cell_type": "code",
      "source": [
        "a=\"hii\"\n",
        "b=\"  hello my name is shravani\"\n",
        "print(a.upper())\n",
        "print(b.lower())\n",
        "c=a+b\n",
        "print(c)\n",
        "print(b.capitalize())\n",
        "print(b.title())\n",
        "d=a*2\n",
        "print(d)\n",
        "print(b.lstrip())\n",
        "print(a.rstrip())\n",
        "print(c.swapcase())\n"
      ],
      "metadata": {
        "colab": {
          "base_uri": "https://localhost:8080/",
          "height": 0
        },
        "id": "gSeV36sYxpsb",
        "outputId": "42801a5f-71b5-4f62-8edb-261da5f91cf2"
      },
      "execution_count": 7,
      "outputs": [
        {
          "output_type": "stream",
          "name": "stdout",
          "text": [
            "HII\n",
            "  hello my name is shravani\n",
            "hii  hello my name is shravani\n",
            "  hello my name is shravani\n",
            "  Hello My Name Is Shravani\n",
            "hiihii\n",
            "hello my name is shravani\n",
            "hii\n",
            "HII  HELLO MY NAME IS SHRAVANI\n"
          ]
        }
      ]
    },
    {
      "cell_type": "markdown",
      "source": [
        ""
      ],
      "metadata": {
        "id": "iO_J34P10pFX"
      }
    },
    {
      "cell_type": "markdown",
      "source": [
        ""
      ],
      "metadata": {
        "id": "9ZA94ig-xiik"
      }
    },
    {
      "cell_type": "markdown",
      "source": [
        "2.Implement the methods of List with examples"
      ],
      "metadata": {
        "id": "aalsRZj_0xT4"
      }
    },
    {
      "cell_type": "code",
      "source": [
        "l1=[1,2,5]\n",
        "l2=[4.0,3,\"s\",3.3]\n",
        "l3=[\"s\",\"h\",\"r\"]\n",
        "l1.append(7)\n",
        "print(l1)\n",
        "l1.insert(2,9)\n",
        "print(l1)\n",
        "l2.extend([1,8])\n",
        "print(l1)\n",
        "print(l2)\n",
        "l1.clear()\n",
        "print(l1)\n",
        "print(l3[1])\n",
        "print(l3[0:2])\n",
        "l3.reverse()\n",
        "print(l3)\n",
        "print(l2[::-1])\n",
        "print(len(l2))\n",
        "print(l2.count(3))\n",
        "l2.remove(\"s\")\n",
        "print(l2)\n",
        "l2.sort()\n",
        "print(l2)"
      ],
      "metadata": {
        "colab": {
          "base_uri": "https://localhost:8080/",
          "height": 0
        },
        "id": "_BT86Jn806Nq",
        "outputId": "4552fa9c-0c22-4270-82ab-5e80df75875f"
      },
      "execution_count": 36,
      "outputs": [
        {
          "output_type": "stream",
          "name": "stdout",
          "text": [
            "[1, 2, 5, 7]\n",
            "[1, 2, 9, 5, 7]\n",
            "[1, 2, 9, 5, 7]\n",
            "[4.0, 3, 's', 3.3, 1, 8]\n",
            "[]\n",
            "h\n",
            "['s', 'h']\n",
            "['r', 'h', 's']\n",
            "[8, 1, 3.3, 's', 3, 4.0]\n",
            "6\n",
            "1\n",
            "[4.0, 3, 3.3, 1, 8]\n",
            "[1, 3, 3.3, 4.0, 8]\n"
          ]
        }
      ]
    },
    {
      "cell_type": "markdown",
      "source": [
        "3.Implement the methods of tuple with examples"
      ],
      "metadata": {
        "id": "fvKjungE7Q4B"
      }
    },
    {
      "cell_type": "code",
      "source": [
        "t=(1,2,3,4)\n",
        "t1=(\"hi\",1.0,5)\n",
        "t2=(\"k\",\"h\",\"s\")\n",
        "print(t2.count(1))\n",
        "print(t.index(2))\n",
        "print(max(t2))\n",
        "print(min(t))\n",
        "print(len(t1))\n",
        "print(t2[1])"
      ],
      "metadata": {
        "colab": {
          "base_uri": "https://localhost:8080/",
          "height": 0
        },
        "id": "hGTn8U977aug",
        "outputId": "30118e32-1667-4852-9413-d2575c751acd"
      },
      "execution_count": 42,
      "outputs": [
        {
          "output_type": "stream",
          "name": "stdout",
          "text": [
            "0\n",
            "1\n",
            "s\n",
            "1\n",
            "3\n",
            "h\n"
          ]
        }
      ]
    },
    {
      "cell_type": "markdown",
      "source": [
        "4. Implement the methods of Dictionary with examples."
      ],
      "metadata": {
        "id": "w-MBryr09GNb"
      }
    },
    {
      "cell_type": "code",
      "source": [
        "d={'name':'shravani','phno':1234567890,'address':'wgl'}\n",
        "print(d['name'])\n",
        "print(d.keys())\n",
        "print(d.values())\n",
        "print(d.get('name'))"
      ],
      "metadata": {
        "colab": {
          "base_uri": "https://localhost:8080/",
          "height": 0
        },
        "id": "-Ss-620b9NkR",
        "outputId": "cb1533d3-62cf-47ff-9bd3-f43ba07e7790"
      },
      "execution_count": 44,
      "outputs": [
        {
          "output_type": "stream",
          "name": "stdout",
          "text": [
            "shravani\n",
            "dict_keys(['name', 'phno', 'address'])\n",
            "dict_values(['shravani', 1234567890, 'wgl'])\n",
            "shravani\n"
          ]
        }
      ]
    },
    {
      "cell_type": "markdown",
      "source": [
        "5. Implement the methods of Set with examples."
      ],
      "metadata": {
        "id": "1PZHyo_X9t9f"
      }
    },
    {
      "cell_type": "code",
      "source": [
        "s={2,7,4,7}\n",
        "s1={1,2,3,\"s\",\"hi\",(5,6,7),(\"s\")}\n",
        "print(s1)\n",
        "s.add(2)\n",
        "print(s)\n",
        "s.update([2,3,4])\n",
        "print(s)\n",
        "s1.discard(3)\n",
        "print(s1)\n",
        "s.remove(4)\n",
        "print(s)\n",
        "\n"
      ],
      "metadata": {
        "colab": {
          "base_uri": "https://localhost:8080/",
          "height": 0
        },
        "id": "Ity3eUvd9zhK",
        "outputId": "d0692305-eb93-4633-afd7-9bdb11ad2b99"
      },
      "execution_count": 48,
      "outputs": [
        {
          "output_type": "stream",
          "name": "stdout",
          "text": [
            "{1, 2, 3, (5, 6, 7), 's', 'hi'}\n",
            "{2, 4, 7}\n",
            "{2, 3, 4, 7}\n",
            "{1, 2, (5, 6, 7), 's', 'hi'}\n",
            "{2, 3, 7}\n"
          ]
        }
      ]
    },
    {
      "cell_type": "markdown",
      "source": [
        "6. Write a python program to convert Decimal to Binary, Octal and Hexadecimal with \n",
        "direct method."
      ],
      "metadata": {
        "id": "0LaL75mi_0II"
      }
    },
    {
      "cell_type": "code",
      "source": [
        "dec = 277\n",
        "\n",
        "print(\"The decimal value of\", dec, \"is:\")\n",
        "print(bin(dec), \"in binary.\")\n",
        "print(oct(dec), \"in octal.\")\n",
        "print(hex(dec), \"in hexadecimal.\")"
      ],
      "metadata": {
        "colab": {
          "base_uri": "https://localhost:8080/",
          "height": 0
        },
        "id": "I_F0WW_D_1cr",
        "outputId": "19333d47-f405-4733-bbfc-b048af6b80bf"
      },
      "execution_count": 50,
      "outputs": [
        {
          "output_type": "stream",
          "name": "stdout",
          "text": [
            "The decimal value of 277 is:\n",
            "0b100010101 in binary.\n",
            "0o425 in octal.\n",
            "0x115 in hexadecimal.\n"
          ]
        }
      ]
    },
    {
      "cell_type": "markdown",
      "source": [
        "7. Implement Arithmetic operators with examples"
      ],
      "metadata": {
        "id": "OkOa_wZvAF4c"
      }
    },
    {
      "cell_type": "code",
      "source": [
        "a=100\n",
        "b=3\n",
        "print(a+b)\n",
        "print(a/b)\n",
        "print(a//b)\n",
        "print(a%b)\n",
        "print(a**b)\n",
        "print(a-b)\n"
      ],
      "metadata": {
        "colab": {
          "base_uri": "https://localhost:8080/",
          "height": 0
        },
        "id": "nQe2OKl2AOZk",
        "outputId": "0cbfb48f-b468-45cd-96e6-63c4e66b0b96"
      },
      "execution_count": 55,
      "outputs": [
        {
          "output_type": "stream",
          "name": "stdout",
          "text": [
            "103\n",
            "33.333333333333336\n",
            "33\n",
            "1\n",
            "1000000\n",
            "97\n"
          ]
        }
      ]
    },
    {
      "cell_type": "markdown",
      "source": [
        "8. Implement Assignment operators with examples."
      ],
      "metadata": {
        "id": "nqW9OMJcBtr5"
      }
    },
    {
      "cell_type": "code",
      "source": [
        "a = 5  \n",
        "b = a  \n",
        "print( \"Output = \", b)  "
      ],
      "metadata": {
        "colab": {
          "base_uri": "https://localhost:8080/",
          "height": 0
        },
        "id": "esmClR4LBzwj",
        "outputId": "2280d212-5a2c-4878-9128-c21b525e749f"
      },
      "execution_count": 56,
      "outputs": [
        {
          "output_type": "stream",
          "name": "stdout",
          "text": [
            "Output =  5\n"
          ]
        }
      ]
    },
    {
      "cell_type": "code",
      "source": [
        "a=3\n",
        "a+=5\n",
        "print(a)\n",
        "a-=1\n",
        "a*=b\n",
        "print(a)\n",
        "print(b)\n",
        "a/=b\n",
        "print(a)\n",
        "a**=b\n",
        "print(a)\n",
        "a%=b\n",
        "print(a)\n"
      ],
      "metadata": {
        "colab": {
          "base_uri": "https://localhost:8080/",
          "height": 0
        },
        "id": "pVLe1qQ-CUpL",
        "outputId": "f237b7c4-b7ec-4378-c63e-633aa95733c4"
      },
      "execution_count": 61,
      "outputs": [
        {
          "output_type": "stream",
          "name": "stdout",
          "text": [
            "8\n",
            "35\n",
            "5\n",
            "7.0\n",
            "16807.0\n",
            "2.0\n"
          ]
        }
      ]
    },
    {
      "cell_type": "markdown",
      "source": [
        "9. Implement Comparison operators with examples"
      ],
      "metadata": {
        "id": "xM7DPKDADWi5"
      }
    },
    {
      "cell_type": "code",
      "source": [
        "print(\"equal\",a==b)\n",
        "print(\"not equal\",a!=b)\n",
        "print(\"grater\",a>b)\n",
        "print(\"less\",a<b)\n",
        "print(\"grater then equal to\",a>=b)\n",
        "print(a<=b)\n"
      ],
      "metadata": {
        "colab": {
          "base_uri": "https://localhost:8080/",
          "height": 0
        },
        "id": "62zt0CofDWBa",
        "outputId": "1e7d4e14-eebb-4761-a3a6-0c761f29dde5"
      },
      "execution_count": 63,
      "outputs": [
        {
          "output_type": "stream",
          "name": "stdout",
          "text": [
            "equal False\n",
            "not equal True\n",
            "grater False\n",
            "less True\n",
            "grater then equal to False\n",
            "True\n"
          ]
        }
      ]
    },
    {
      "cell_type": "markdown",
      "source": [
        "10. Implement Logical operators with examples."
      ],
      "metadata": {
        "id": "z06KE7clEPQg"
      }
    },
    {
      "cell_type": "code",
      "source": [
        "x=True\n",
        "y=False\n",
        "print(\"x and y is\",x and y)\n",
        "print(\"x or y is\",x or y)\n",
        "print(\"x not is\",not x)"
      ],
      "metadata": {
        "colab": {
          "base_uri": "https://localhost:8080/",
          "height": 0
        },
        "id": "ldqce69NEXtV",
        "outputId": "27f2fc59-f572-44da-987d-a530e7f43087"
      },
      "execution_count": 64,
      "outputs": [
        {
          "output_type": "stream",
          "name": "stdout",
          "text": [
            "x and y is False\n",
            "x or y is True\n",
            "x not is False\n"
          ]
        }
      ]
    },
    {
      "cell_type": "markdown",
      "source": [
        "11. Implement Bitwise operators with examples"
      ],
      "metadata": {
        "id": "hl8x2087EgSH"
      }
    },
    {
      "cell_type": "code",
      "source": [
        "a=8\n",
        "b=4\n",
        "print(a&b)#AND\n",
        "print(a^b)#XOR\n",
        "print(a|b)#OR\n",
        "print(~a)\n",
        "print(a>>2)#right shift\n",
        "print(a<<4)#left shift"
      ],
      "metadata": {
        "colab": {
          "base_uri": "https://localhost:8080/",
          "height": 0
        },
        "id": "qvS1k6k8ElRZ",
        "outputId": "cac99dc7-27d3-4722-a5a3-932c05c5b436"
      },
      "execution_count": 65,
      "outputs": [
        {
          "output_type": "stream",
          "name": "stdout",
          "text": [
            "0\n",
            "12\n",
            "12\n",
            "-9\n",
            "2\n",
            "128\n"
          ]
        }
      ]
    },
    {
      "cell_type": "markdown",
      "source": [
        "12. Implement Membership operators with examples."
      ],
      "metadata": {
        "id": "0cayu3qoE7HR"
      }
    },
    {
      "cell_type": "code",
      "source": [
        "x=\"welcome to sru\"\n",
        "y={1:'a',2:'b'}\n",
        "print('H' in x)\n",
        "print(1 in y)\n",
        "print('a'in y)"
      ],
      "metadata": {
        "colab": {
          "base_uri": "https://localhost:8080/",
          "height": 0
        },
        "id": "j-kbV_CyFAll",
        "outputId": "5be0ffb1-693b-44c5-f734-905cc21cdf09"
      },
      "execution_count": 66,
      "outputs": [
        {
          "output_type": "stream",
          "name": "stdout",
          "text": [
            "False\n",
            "True\n",
            "False\n"
          ]
        }
      ]
    },
    {
      "cell_type": "markdown",
      "source": [
        "13. Implement Identity operators with examples"
      ],
      "metadata": {
        "id": "gx5noeg7FZz_"
      }
    },
    {
      "cell_type": "code",
      "source": [
        "a=5\n",
        "b=5\n",
        "x=\"Hello\"\n",
        "y=\"Hello\"\n",
        "s=[1,2,3]\n",
        "h=[1,2,3]\n",
        "print(x is not y)\n",
        "print(a is b)\n",
        "print(s is h)"
      ],
      "metadata": {
        "colab": {
          "base_uri": "https://localhost:8080/",
          "height": 0
        },
        "id": "mKJx__hPFfTh",
        "outputId": "ccbc1179-ecc4-4b2d-8b80-47e8058588b1"
      },
      "execution_count": 67,
      "outputs": [
        {
          "output_type": "stream",
          "name": "stdout",
          "text": [
            "False\n",
            "True\n",
            "False\n"
          ]
        }
      ]
    },
    {
      "cell_type": "markdown",
      "source": [
        "14. Demonstrate Negative indexing for List and apply slicing"
      ],
      "metadata": {
        "id": "Y6zi4wXLF7eC"
      }
    },
    {
      "cell_type": "code",
      "source": [
        "a=[1,2,4,5]\n",
        "b=[\"s\",\"h\",\"r\"]\n",
        "print(a[-1])\n",
        "print(b[-3])\n",
        "print(a[0:2])\n",
        "print(b[0:3:2])\n",
        "print(a[-3:-1])"
      ],
      "metadata": {
        "colab": {
          "base_uri": "https://localhost:8080/",
          "height": 0
        },
        "id": "9MEmWCDGGBc9",
        "outputId": "5c5d3bbb-b430-4c49-bbe7-ca3119c3191d"
      },
      "execution_count": 72,
      "outputs": [
        {
          "output_type": "stream",
          "name": "stdout",
          "text": [
            "5\n",
            "s\n",
            "[1, 2]\n",
            "['s', 'r']\n",
            "[2, 4]\n"
          ]
        }
      ]
    },
    {
      "cell_type": "markdown",
      "source": [
        "15. Predict the output for the given code snippet and justify the result.\n"
      ],
      "metadata": {
        "id": "FanuvRGnG0aZ"
      }
    },
    {
      "cell_type": "code",
      "source": [
        "print('A series of characters designated as one object known as a string'[::-1][4::3])\n",
        "print(\"..............\")\n",
        "print('Welcome to python traing program'[3:10][::-1])"
      ],
      "metadata": {
        "colab": {
          "base_uri": "https://localhost:8080/"
        },
        "id": "eFq6_kCvG7ht",
        "outputId": "476720b7-6335-44ea-b183-a892c29952a8"
      },
      "execution_count": 75,
      "outputs": [
        {
          "output_type": "stream",
          "name": "stdout",
          "text": [
            "taawkcbe  tgestrcoeeA\n",
            "..............\n",
            "ot emoc\n"
          ]
        }
      ]
    },
    {
      "cell_type": "markdown",
      "source": [
        "16. Write a python code to get desired output"
      ],
      "metadata": {
        "id": "Vh5OeeFYHNvG"
      }
    },
    {
      "cell_type": "code",
      "source": [
        "b=input(\"enter string\")\n",
        "c=b[::-1]\n",
        "print(c.upper())"
      ],
      "metadata": {
        "colab": {
          "base_uri": "https://localhost:8080/"
        },
        "id": "M34D1PzAHRSP",
        "outputId": "429dd58a-42c9-4800-9421-5c9941cfd039"
      },
      "execution_count": 74,
      "outputs": [
        {
          "output_type": "stream",
          "name": "stdout",
          "text": [
            "enter stringhi this is shtavani\n",
            "INAVATHS SI SIHT IH\n"
          ]
        }
      ]
    },
    {
      "cell_type": "markdown",
      "source": [
        "17. You are required to generate a word similar to ZOO, X and Y that denote the number \n",
        "of Zs and Os respectively. The generated word similar to ZOO where Y= 2 * X. "
      ],
      "metadata": {
        "id": "166SvMShIr6x"
      }
    },
    {
      "cell_type": "code",
      "source": [
        "x='z'\n",
        "y='o'\n",
        "x1=int(input('Enter how many times u want z'))\n",
        "y1=2*x1\n",
        "for i in range(0,x1):\n",
        "  print(x,end='')\n",
        "for i in range(0,y1):\n",
        "  print(y,end='')"
      ],
      "metadata": {
        "colab": {
          "base_uri": "https://localhost:8080/"
        },
        "id": "rl5FWTyYIwxs",
        "outputId": "9cbdae59-f2df-44fc-eb4e-b8d51dcc7b7a"
      },
      "execution_count": 76,
      "outputs": [
        {
          "output_type": "stream",
          "name": "stdout",
          "text": [
            "Enter how many times u want z3\n",
            "zzzoooooo"
          ]
        }
      ]
    }
  ]
}